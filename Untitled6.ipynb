{
  "nbformat": 4,
  "nbformat_minor": 0,
  "metadata": {
    "colab": {
      "name": "Untitled6.ipynb",
      "version": "0.3.2",
      "provenance": [],
      "include_colab_link": true
    },
    "kernelspec": {
      "name": "python3",
      "display_name": "Python 3"
    }
  },
  "cells": [
    {
      "cell_type": "markdown",
      "metadata": {
        "id": "view-in-github",
        "colab_type": "text"
      },
      "source": [
        "<a href=\"https://colab.research.google.com/github/vigneshmj1997/pie_i5/blob/master/Untitled6.ipynb\" target=\"_parent\"><img src=\"https://colab.research.google.com/assets/colab-badge.svg\" alt=\"Open In Colab\"/></a>"
      ]
    },
    {
      "metadata": {
        "id": "MSWttixF47uZ",
        "colab_type": "code",
        "outputId": "699ad565-23c2-4a69-e2cb-0a4bf8c70c70",
        "colab": {
          "base_uri": "https://localhost:8080/",
          "height": 148
        }
      },
      "cell_type": "code",
      "source": [
        "!git clone https://github.com/9444148408msr/DataSet.git\n",
        "  "
      ],
      "execution_count": 3,
      "outputs": [
        {
          "output_type": "stream",
          "text": [
            "Cloning into 'DataSet'...\n",
            "remote: Enumerating objects: 20, done.\u001b[K\n",
            "remote: Counting objects: 100% (20/20), done.\u001b[K\n",
            "remote: Compressing objects: 100% (18/18), done.\u001b[K\n",
            "remote: Total 20 (delta 4), reused 3 (delta 0), pack-reused 0\u001b[K\n",
            "Unpacking objects: 100% (20/20), done.\n"
          ],
          "name": "stdout"
        }
      ]
    },
    {
      "metadata": {
        "id": "86tFjW-M5RYQ",
        "colab_type": "code",
        "outputId": "e8ae2b79-3d1f-417f-b66b-4a4c17b9e834",
        "colab": {
          "base_uri": "https://localhost:8080/",
          "height": 63
        }
      },
      "cell_type": "code",
      "source": [
        "ls\n"
      ],
      "execution_count": 4,
      "outputs": [
        {
          "output_type": "stream",
          "text": [
            "\u001b[0m\u001b[01;34mDataSet\u001b[0m/  \u001b[01;34msample_data\u001b[0m/\n"
          ],
          "name": "stdout"
        }
      ]
    },
    {
      "metadata": {
        "id": "1465JTwY5hpr",
        "colab_type": "code",
        "outputId": "ef0f6533-99ed-45f7-d04e-000fe5fbd3ed",
        "colab": {
          "base_uri": "https://localhost:8080/",
          "height": 34
        }
      },
      "cell_type": "code",
      "source": [
        "cd DataSet\n"
      ],
      "execution_count": 5,
      "outputs": [
        {
          "output_type": "stream",
          "text": [
            "/content/DataSet\n"
          ],
          "name": "stdout"
        }
      ]
    },
    {
      "metadata": {
        "id": "9PLZGciS5mvP",
        "colab_type": "code",
        "outputId": "60b6aaff-14ad-48f3-86c1-9438f2af49ce",
        "colab": {
          "base_uri": "https://localhost:8080/",
          "height": 80
        }
      },
      "cell_type": "code",
      "source": [
        "ls"
      ],
      "execution_count": 6,
      "outputs": [
        {
          "output_type": "stream",
          "text": [
            "demo1.csv  demo4.csv  demo6.csv  demo.csv\n",
            "demo3.csv  demo5.csv  demo7.csv  README.md\n"
          ],
          "name": "stdout"
        }
      ]
    },
    {
      "metadata": {
        "id": "rYYdErcs5npM",
        "colab_type": "code",
        "colab": {}
      },
      "cell_type": "code",
      "source": [
        "import pandas as pd\n",
        "data=pd.read_csv(\"/content/DataSet/demo1.csv\")\n",
        "data=pd.concat([data,pd.read_csv(\"/content/DataSet/demo.csv\")])\n",
        "data=pd.concat([data,pd.read_csv(\"/content/DataSet/demo3.csv\")])\n",
        "data=pd.concat([data,pd.read_csv(\"/content/DataSet/demo4.csv\")])\n",
        "data=pd.concat([data,pd.read_csv(\"/content/DataSet/demo5.csv\")])\n",
        "data=pd.concat([data,pd.read_csv(\"/content/DataSet/demo6.csv\")])\n",
        "\n",
        "\n",
        "data=data.drop(\"cycles.1\",1)\n",
        "time=data[\"time.1\"]\n",
        "data=data.drop([\"time.1\"],1)\n",
        "data=data.drop(\"CPU_core_demand.1\",1)\n",
        "data=data.drop(\"RAM_demand.1\",1)\n",
        "import random\n"
      ],
      "execution_count": 0,
      "outputs": []
    },
    {
      "metadata": {
        "id": "EidwKJj6IUev",
        "colab_type": "code",
        "colab": {}
      },
      "cell_type": "code",
      "source": [
        "time=[i+random.random() for i in time]\n"
      ],
      "execution_count": 0,
      "outputs": []
    },
    {
      "metadata": {
        "id": "i5OFspJD5v2y",
        "colab_type": "code",
        "colab": {
          "base_uri": "https://localhost:8080/",
          "height": 34
        },
        "outputId": "8aca1bfb-7e1d-4e78-94f6-4e8abcbaca74"
      },
      "cell_type": "code",
      "source": [
        "import keras\n",
        "from keras.models import Sequential\n",
        "from keras.layers import Dense\n",
        "from keras.wrappers.scikit_learn import KerasRegressor\n",
        "from sklearn.model_selection import cross_val_score\n",
        "from sklearn.model_selection import KFold\n",
        "from sklearn.preprocessing import StandardScaler\n",
        "from sklearn.pipeline import Pipeline\n",
        "from keras.layers import Dropout\n",
        "from keras.layers import Activation, Dense"
      ],
      "execution_count": 26,
      "outputs": [
        {
          "output_type": "stream",
          "text": [
            "Using TensorFlow backend.\n"
          ],
          "name": "stderr"
        }
      ]
    },
    {
      "metadata": {
        "id": "TDTriaj_58C9",
        "colab_type": "code",
        "colab": {}
      },
      "cell_type": "code",
      "source": [
        "from keras.layers import LeakyReLU,PReLU\n",
        "from keras import metrics\n",
        "\n",
        "def baseline_model():\n",
        "\n",
        "    model = Sequential()\n",
        "    model.add(Dense(16, input_dim=16, kernel_initializer='normal'))\n",
        "    model.add(Activation('tanh'))\n",
        "    model.add(Dense(8, kernel_initializer='normal'))\n",
        "    model.add(Activation('tanh'))\n",
        "    model.add(Dense(4, kernel_initializer='normal'))\n",
        "    model.add(Activation('tanh'))   \n",
        "    model.add(Dense(2, kernel_initializer='normal'))    \n",
        "    model.add(Dense(1, kernel_initializer='normal'))    \n",
        "    model.compile(loss='mean_squared_error', optimizer='Rmsprop',metrics=['mae', 'acc'])\n",
        "    return model"
      ],
      "execution_count": 0,
      "outputs": []
    },
    {
      "metadata": {
        "id": "vL7oWUCL_kga",
        "colab_type": "code",
        "colab": {}
      },
      "cell_type": "code",
      "source": [
        "import numpy as np\n",
        "from sklearn.decomposition import PCA\n",
        "x_data=np.array(data)\n",
        "pca=PCA(n_components=16)\n",
        "pca.fit(x_data)\n",
        "x_data=pca.transform(x_data)\n",
        "from sklearn.preprocessing import normalize\n",
        "x_data=normalize(x_data,norm=\"l1\")\n",
        "from sklearn import preprocessing\n",
        "x_data=preprocessing.scale(x_data)"
      ],
      "execution_count": 0,
      "outputs": []
    },
    {
      "metadata": {
        "id": "2NJhTrci6JQp",
        "colab_type": "code",
        "colab": {}
      },
      "cell_type": "code",
      "source": [
        "from sklearn.model_selection import train_test_split\n",
        "import numpy as np\n",
        "X_train, X_test, y_train, y_test = train_test_split(np.array(x_data), np.array(time), test_size=0.3, random_state=42)"
      ],
      "execution_count": 0,
      "outputs": []
    },
    {
      "metadata": {
        "id": "es96DYwp6ODe",
        "colab_type": "code",
        "outputId": "a9e75060-57ad-4887-defb-ef5c1e7ded78",
        "colab": {
          "base_uri": "https://localhost:8080/",
          "height": 2298
        }
      },
      "cell_type": "code",
      "source": [
        "model=baseline_model()\n",
        "history=model.fit(X_train, y_train, validation_data=(X_test, y_test),epochs=200, batch_size=100)"
      ],
      "execution_count": 0,
      "outputs": [
        {
          "output_type": "stream",
          "text": [
            "WARNING:tensorflow:From /usr/local/lib/python3.6/dist-packages/tensorflow/python/framework/op_def_library.py:263: colocate_with (from tensorflow.python.framework.ops) is deprecated and will be removed in a future version.\n",
            "Instructions for updating:\n",
            "Colocations handled automatically by placer.\n",
            "WARNING:tensorflow:From /usr/local/lib/python3.6/dist-packages/tensorflow/python/ops/math_ops.py:3066: to_int32 (from tensorflow.python.ops.math_ops) is deprecated and will be removed in a future version.\n",
            "Instructions for updating:\n",
            "Use tf.cast instead.\n",
            "Train on 645388 samples, validate on 276596 samples\n",
            "Epoch 1/200\n",
            "645388/645388 [==============================] - 8s 13us/step - loss: 354.7541 - val_loss: 4.6546\n",
            "Epoch 2/200\n",
            "645388/645388 [==============================] - 8s 12us/step - loss: 3.2050 - val_loss: 2.7843\n",
            "Epoch 3/200\n",
            "645388/645388 [==============================] - 8s 13us/step - loss: 1.5261 - val_loss: 0.9590\n",
            "Epoch 4/200\n",
            "645388/645388 [==============================] - 8s 13us/step - loss: 0.9782 - val_loss: 1.1686\n",
            "Epoch 5/200\n",
            "645388/645388 [==============================] - 8s 12us/step - loss: 0.7997 - val_loss: 0.7234\n",
            "Epoch 6/200\n",
            "645388/645388 [==============================] - 8s 12us/step - loss: 0.6711 - val_loss: 0.4970\n",
            "Epoch 7/200\n",
            "645388/645388 [==============================] - 8s 12us/step - loss: 0.6020 - val_loss: 0.5148\n",
            "Epoch 8/200\n",
            "645388/645388 [==============================] - 8s 12us/step - loss: 0.5527 - val_loss: 0.3770\n",
            "Epoch 9/200\n",
            "645388/645388 [==============================] - 8s 12us/step - loss: 0.5162 - val_loss: 0.4879\n",
            "Epoch 10/200\n",
            "645388/645388 [==============================] - 8s 12us/step - loss: 0.4873 - val_loss: 0.5130\n",
            "Epoch 11/200\n",
            "645388/645388 [==============================] - 8s 12us/step - loss: 0.4584 - val_loss: 0.4672\n",
            "Epoch 12/200\n",
            "645388/645388 [==============================] - 8s 12us/step - loss: 0.4357 - val_loss: 0.4254\n",
            "Epoch 13/200\n",
            "645388/645388 [==============================] - 8s 12us/step - loss: 0.4167 - val_loss: 0.6098\n",
            "Epoch 14/200\n",
            "645388/645388 [==============================] - 8s 12us/step - loss: 0.4005 - val_loss: 0.4402\n",
            "Epoch 15/200\n",
            "645388/645388 [==============================] - 8s 12us/step - loss: 0.3857 - val_loss: 0.2819\n",
            "Epoch 16/200\n",
            "645388/645388 [==============================] - 8s 12us/step - loss: 0.3758 - val_loss: 0.4891\n",
            "Epoch 17/200\n",
            "645388/645388 [==============================] - 8s 12us/step - loss: 0.3663 - val_loss: 0.4850\n",
            "Epoch 18/200\n",
            "645388/645388 [==============================] - 8s 12us/step - loss: 0.3567 - val_loss: 0.5388\n",
            "Epoch 19/200\n",
            "645388/645388 [==============================] - 8s 12us/step - loss: 0.3472 - val_loss: 0.3212\n",
            "Epoch 20/200\n",
            "645388/645388 [==============================] - 8s 12us/step - loss: 0.3398 - val_loss: 0.2220\n",
            "Epoch 21/200\n",
            "645388/645388 [==============================] - 8s 12us/step - loss: 0.3321 - val_loss: 0.2590\n",
            "Epoch 22/200\n",
            "645388/645388 [==============================] - 8s 12us/step - loss: 0.3274 - val_loss: 0.2123\n",
            "Epoch 23/200\n",
            "645388/645388 [==============================] - 8s 12us/step - loss: 0.3204 - val_loss: 0.2519\n",
            "Epoch 24/200\n",
            "645388/645388 [==============================] - 8s 12us/step - loss: 0.3151 - val_loss: 0.4751\n",
            "Epoch 25/200\n",
            "645388/645388 [==============================] - 8s 12us/step - loss: 0.3090 - val_loss: 0.2283\n",
            "Epoch 26/200\n",
            "645388/645388 [==============================] - 8s 12us/step - loss: 0.3051 - val_loss: 0.3404\n",
            "Epoch 27/200\n",
            "645388/645388 [==============================] - 8s 12us/step - loss: 0.3007 - val_loss: 0.3099\n",
            "Epoch 28/200\n",
            "645388/645388 [==============================] - 8s 12us/step - loss: 0.2954 - val_loss: 0.2671\n",
            "Epoch 29/200\n",
            "645388/645388 [==============================] - 8s 12us/step - loss: 0.2922 - val_loss: 0.7901\n",
            "Epoch 30/200\n",
            "645388/645388 [==============================] - 8s 12us/step - loss: 0.2884 - val_loss: 0.3658\n",
            "Epoch 31/200\n",
            "645388/645388 [==============================] - 8s 12us/step - loss: 0.2836 - val_loss: 0.5961\n",
            "Epoch 32/200\n",
            "645388/645388 [==============================] - 8s 12us/step - loss: 0.2805 - val_loss: 0.2025\n",
            "Epoch 33/200\n",
            "645388/645388 [==============================] - 8s 12us/step - loss: 0.2772 - val_loss: 0.2718\n",
            "Epoch 34/200\n",
            "645388/645388 [==============================] - 8s 12us/step - loss: 0.2741 - val_loss: 0.4454\n",
            "Epoch 35/200\n",
            "645388/645388 [==============================] - 8s 12us/step - loss: 0.2709 - val_loss: 0.2632\n",
            "Epoch 36/200\n",
            "645388/645388 [==============================] - 8s 13us/step - loss: 0.2691 - val_loss: 0.2497\n",
            "Epoch 37/200\n",
            "645388/645388 [==============================] - 8s 12us/step - loss: 0.2680 - val_loss: 0.2863\n",
            "Epoch 38/200\n",
            "645388/645388 [==============================] - 8s 12us/step - loss: 0.2658 - val_loss: 0.1769\n",
            "Epoch 39/200\n",
            "645388/645388 [==============================] - 8s 12us/step - loss: 0.2635 - val_loss: 0.1838\n",
            "Epoch 40/200\n",
            "645388/645388 [==============================] - 8s 12us/step - loss: 0.2612 - val_loss: 0.2336\n",
            "Epoch 41/200\n",
            "645388/645388 [==============================] - 8s 12us/step - loss: 0.2592 - val_loss: 0.2082\n",
            "Epoch 42/200\n",
            "645388/645388 [==============================] - 8s 12us/step - loss: 0.2594 - val_loss: 0.3667\n",
            "Epoch 43/200\n",
            "645388/645388 [==============================] - 9s 13us/step - loss: 0.2572 - val_loss: 0.2182\n",
            "Epoch 44/200\n",
            "645388/645388 [==============================] - 8s 12us/step - loss: 0.2549 - val_loss: 0.2206\n",
            "Epoch 45/200\n",
            "645388/645388 [==============================] - 8s 12us/step - loss: 0.2547 - val_loss: 0.2763\n",
            "Epoch 46/200\n",
            "645388/645388 [==============================] - 8s 12us/step - loss: 0.2519 - val_loss: 0.3541\n",
            "Epoch 47/200\n",
            "645388/645388 [==============================] - 8s 12us/step - loss: 0.2501 - val_loss: 0.3304\n",
            "Epoch 48/200\n",
            "645388/645388 [==============================] - 8s 12us/step - loss: 0.2487 - val_loss: 0.3105\n",
            "Epoch 49/200\n",
            "645388/645388 [==============================] - 8s 12us/step - loss: 0.2477 - val_loss: 0.2591\n",
            "Epoch 50/200\n",
            "645388/645388 [==============================] - 8s 12us/step - loss: 0.2453 - val_loss: 0.2048\n",
            "Epoch 51/200\n",
            "645388/645388 [==============================] - 8s 12us/step - loss: 0.2454 - val_loss: 0.2109\n",
            "Epoch 52/200\n",
            "645388/645388 [==============================] - 8s 12us/step - loss: 0.2430 - val_loss: 0.2443\n",
            "Epoch 53/200\n",
            "645388/645388 [==============================] - 8s 12us/step - loss: 0.2411 - val_loss: 0.2844\n",
            "Epoch 54/200\n",
            "645388/645388 [==============================] - 8s 12us/step - loss: 0.2403 - val_loss: 0.1933\n",
            "Epoch 55/200\n",
            "645388/645388 [==============================] - 8s 12us/step - loss: 0.2398 - val_loss: 0.1816\n",
            "Epoch 56/200\n",
            "645388/645388 [==============================] - 8s 12us/step - loss: 0.2387 - val_loss: 0.1590\n",
            "Epoch 57/200\n",
            "645388/645388 [==============================] - 8s 12us/step - loss: 0.2373 - val_loss: 0.2196\n",
            "Epoch 58/200\n",
            "645388/645388 [==============================] - 8s 12us/step - loss: 0.2356 - val_loss: 0.2095\n",
            "Epoch 59/200\n",
            "645388/645388 [==============================] - 8s 12us/step - loss: 0.2343 - val_loss: 0.1781\n",
            "Epoch 60/200\n",
            "645388/645388 [==============================] - 8s 12us/step - loss: 0.2327 - val_loss: 0.2003\n",
            "Epoch 61/200\n",
            "645388/645388 [==============================] - 8s 12us/step - loss: 0.2321 - val_loss: 0.1667\n",
            "Epoch 62/200\n",
            "645388/645388 [==============================] - 8s 12us/step - loss: 0.2316 - val_loss: 0.1794\n",
            "Epoch 63/200\n",
            "480800/645388 [=====================>........] - ETA: 1s - loss: 0.2307"
          ],
          "name": "stdout"
        }
      ]
    },
    {
      "metadata": {
        "id": "V-IVOs5d6YII",
        "colab_type": "code",
        "outputId": "9b5b7592-6654-4eaf-ed6d-41c01f4b5afc",
        "colab": {
          "base_uri": "https://localhost:8080/",
          "height": 187
        }
      },
      "cell_type": "code",
      "source": [
        "model.predict(X_train[0:10])\n"
      ],
      "execution_count": 0,
      "outputs": [
        {
          "output_type": "execute_result",
          "data": {
            "text/plain": [
              "array([[20.275133],\n",
              "       [31.148033],\n",
              "       [30.258451],\n",
              "       [12.791135],\n",
              "       [23.978615],\n",
              "       [23.692732],\n",
              "       [81.04561 ],\n",
              "       [43.828133],\n",
              "       [43.022114],\n",
              "       [34.42538 ]], dtype=float32)"
            ]
          },
          "metadata": {
            "tags": []
          },
          "execution_count": 131
        }
      ]
    },
    {
      "metadata": {
        "id": "N4ppa7tCVFW_",
        "colab_type": "code",
        "outputId": "06fa9c10-0f77-4e54-9268-5cb687af7d4c",
        "colab": {
          "base_uri": "https://localhost:8080/",
          "height": 51
        }
      },
      "cell_type": "code",
      "source": [
        "y_train[0:10]"
      ],
      "execution_count": 0,
      "outputs": [
        {
          "output_type": "execute_result",
          "data": {
            "text/plain": [
              "array([21.90701161, 31.3153578 , 30.06644181, 12.31092388, 24.03561079,\n",
              "       23.54147949, 82.93573735, 43.68393557, 42.73533688, 34.66429983])"
            ]
          },
          "metadata": {
            "tags": []
          },
          "execution_count": 132
        }
      ]
    },
    {
      "metadata": {
        "id": "pPAuCsY7AUGK",
        "colab_type": "code",
        "outputId": "4efe17d8-c78f-40a1-b938-7096fd8a7671",
        "colab": {
          "base_uri": "https://localhost:8080/",
          "height": 374
        }
      },
      "cell_type": "code",
      "source": [
        "list(pd.read_csv(\"/content/DataSet/demo1.csv\"))"
      ],
      "execution_count": 0,
      "outputs": [
        {
          "output_type": "execute_result",
          "data": {
            "text/plain": [
              "['CPU_freq',\n",
              " 'CPU_cores_percent',\n",
              " 'memory',\n",
              " 'cycles',\n",
              " 'time',\n",
              " 'temperature',\n",
              " 'CPU_core_demand',\n",
              " 'RAM_demand',\n",
              " 'swap',\n",
              " 'CPU_freq.1',\n",
              " 'CPU_cores_percent.1',\n",
              " 'memory.1',\n",
              " 'CPU_cores_percent_used',\n",
              " 'instructions',\n",
              " 'cycles.1',\n",
              " 'time.1',\n",
              " 'temperature.1',\n",
              " 'CPU_core_demand.1',\n",
              " 'RAM_demand.1',\n",
              " 'cpi',\n",
              " 'swap.1']"
            ]
          },
          "metadata": {
            "tags": []
          },
          "execution_count": 33
        }
      ]
    },
    {
      "metadata": {
        "id": "1XEyiQdBAXVx",
        "colab_type": "code",
        "outputId": "8cdc51fd-01c8-4398-ffe6-7d653e256375",
        "colab": {
          "base_uri": "https://localhost:8080/",
          "height": 286
        }
      },
      "cell_type": "code",
      "source": [
        "plt.plot(time,\",\")"
      ],
      "execution_count": 0,
      "outputs": [
        {
          "output_type": "execute_result",
          "data": {
            "text/plain": [
              "[<matplotlib.lines.Line2D at 0x7f65775867b8>]"
            ]
          },
          "metadata": {
            "tags": []
          },
          "execution_count": 77
        },
        {
          "output_type": "display_data",
          "data": {
            "image/png": "[encoded data removed]",
            "text/plain": [
              "<Figure size 432x288 with 1 Axes>"
            ]
          },
          "metadata": {
            "tags": []
          }
        }
      ]
    },
    {
      "metadata": {
        "id": "i-aWE8MJGE_Q",
        "colab_type": "code",
        "colab": {}
      },
      "cell_type": "code",
      "source": [
        "from sklearn import linear_model"
      ],
      "execution_count": 0,
      "outputs": []
    },
    {
      "metadata": {
        "id": "r5IO_0CBIrbr",
        "colab_type": "code",
        "colab": {}
      },
      "cell_type": "code",
      "source": [
        "clf=linear_model.LinearRegression()"
      ],
      "execution_count": 0,
      "outputs": []
    },
    {
      "metadata": {
        "id": "KuvTqJGsIx62",
        "colab_type": "code",
        "outputId": "c8b1a820-d13a-4423-a5d7-d46c97300c1e",
        "colab": {
          "base_uri": "https://localhost:8080/",
          "height": 51
        }
      },
      "cell_type": "code",
      "source": [
        "clf.fit(X_train,y_train)"
      ],
      "execution_count": 0,
      "outputs": [
        {
          "output_type": "execute_result",
          "data": {
            "text/plain": [
              "LinearRegression(copy_X=True, fit_intercept=True, n_jobs=None,\n",
              "         normalize=False)"
            ]
          },
          "metadata": {
            "tags": []
          },
          "execution_count": 105
        }
      ]
    },
    {
      "metadata": {
        "id": "DEjEIsHWI6iT",
        "colab_type": "code",
        "outputId": "966bb387-a9d6-49ca-e79a-a090832c6096",
        "colab": {
          "base_uri": "https://localhost:8080/",
          "height": 34
        }
      },
      "cell_type": "code",
      "source": [
        "clf.score(X_train,y_train)"
      ],
      "execution_count": 0,
      "outputs": [
        {
          "output_type": "execute_result",
          "data": {
            "text/plain": [
              "0.24878384932507633"
            ]
          },
          "metadata": {
            "tags": []
          },
          "execution_count": 106
        }
      ]
    },
    {
      "metadata": {
        "id": "1bSbNKO7I8vv",
        "colab_type": "code",
        "outputId": "1d4fd760-9bc7-4ec6-b8ba-6f24fccfd307",
        "colab": {
          "base_uri": "https://localhost:8080/",
          "height": 130
        }
      },
      "cell_type": "code",
      "source": [
        "str(model.summary()"
      ],
      "execution_count": 0,
      "outputs": [
        {
          "output_type": "error",
          "ename": "SyntaxError",
          "evalue": "ignored",
          "traceback": [
            "\u001b[0;36m  File \u001b[0;32m\"<ipython-input-108-5ecd455382f1>\"\u001b[0;36m, line \u001b[0;32m1\u001b[0m\n\u001b[0;31m    str(model.summary()\u001b[0m\n\u001b[0m                       ^\u001b[0m\n\u001b[0;31mSyntaxError\u001b[0m\u001b[0;31m:\u001b[0m unexpected EOF while parsing\n"
          ]
        }
      ]
    },
    {
      "metadata": {
        "id": "pdlBEgQFJyEd",
        "colab_type": "code",
        "colab": {}
      },
      "cell_type": "code",
      "source": [
        "from keras.utils import plot_model\n",
        "plot_model(model, to_file='model.png')"
      ],
      "execution_count": 0,
      "outputs": []
    },
    {
      "metadata": {
        "id": "yFu5uMQJKatm",
        "colab_type": "code",
        "outputId": "024f55b6-2580-4fdf-9c60-878bfab6fd24",
        "colab": {
          "base_uri": "https://localhost:8080/",
          "height": 80
        }
      },
      "cell_type": "code",
      "source": [
        "ls"
      ],
      "execution_count": 0,
      "outputs": [
        {
          "output_type": "stream",
          "text": [
            "demo1.csv  demo4.csv  demo6.csv  demo.csv   README.md\n",
            "demo3.csv  demo5.csv  demo7.csv  model.png\n"
          ],
          "name": "stdout"
        }
      ]
    },
    {
      "metadata": {
        "id": "wShu-zj0KcHg",
        "colab_type": "code",
        "outputId": "65e87ce1-2ab7-4878-85a0-13011e2bc383",
        "colab": {
          "base_uri": "https://localhost:8080/",
          "height": 953
        }
      },
      "cell_type": "code",
      "source": [
        "from PIL import Image\n",
        "Image.open(\"/content/DataSet/model.png\")"
      ],
      "execution_count": 0,
      "outputs": [
        {
          "output_type": "execute_result",
          "data": {
            "image/png": "[encoded data removed]",
            "text/plain": [
              "<PIL.PngImagePlugin.PngImageFile image mode=RGB size=216x936 at 0x7F6574F639E8>"
            ]
          },
          "metadata": {
            "tags": []
          },
          "execution_count": 140
        }
      ]
    },
    {
      "metadata": {
        "id": "xiv6OP60KlgV",
        "colab_type": "code",
        "colab": {}
      },
      "cell_type": "code",
      "source": [
        "loss=history.history['loss']\n",
        "val_loss=history.history['val_loss']"
      ],
      "execution_count": 0,
      "outputs": []
    },
    {
      "metadata": {
        "id": "_ThiI_IBL_hv",
        "colab_type": "code",
        "outputId": "2d1968e5-ad6c-4d39-9052-b6e4c753ae84",
        "colab": {
          "base_uri": "https://localhost:8080/",
          "height": 450
        }
      },
      "cell_type": "code",
      "source": [
        "plt.plot(loss)\n",
        "\n",
        "plt.imsave(\"valloss.png\")"
      ],
      "execution_count": 0,
      "outputs": [
        {
          "output_type": "error",
          "ename": "TypeError",
          "evalue": "ignored",
          "traceback": [
            "\u001b[0;31m---------------------------------------------------------------------------\u001b[0m",
            "\u001b[0;31mTypeError\u001b[0m                                 Traceback (most recent call last)",
            "\u001b[0;32m<ipython-input-138-e9bbd85ed966>\u001b[0m in \u001b[0;36m<module>\u001b[0;34m()\u001b[0m\n\u001b[1;32m      1\u001b[0m \u001b[0mplt\u001b[0m\u001b[0;34m.\u001b[0m\u001b[0mplot\u001b[0m\u001b[0;34m(\u001b[0m\u001b[0mloss\u001b[0m\u001b[0;34m)\u001b[0m\u001b[0;34m\u001b[0m\u001b[0;34m\u001b[0m\u001b[0m\n\u001b[1;32m      2\u001b[0m \u001b[0;34m\u001b[0m\u001b[0m\n\u001b[0;32m----> 3\u001b[0;31m \u001b[0mplt\u001b[0m\u001b[0;34m.\u001b[0m\u001b[0mimsave\u001b[0m\u001b[0;34m(\u001b[0m\u001b[0;34m\"valloss.png\"\u001b[0m\u001b[0;34m)\u001b[0m\u001b[0;34m\u001b[0m\u001b[0;34m\u001b[0m\u001b[0m\n\u001b[0m",
            "\u001b[0;31mTypeError\u001b[0m: imsave() missing 1 required positional argument: 'arr'"
          ]
        },
        {
          "output_type": "display_data",
          "data": {
            "image/png": "[encoded data removed]",
            "text/plain": [
              "<Figure size 432x288 with 1 Axes>"
            ]
          },
          "metadata": {
            "tags": []
          }
        }
      ]
    },
    {
      "metadata": {
        "id": "70Bh-ZFFMO8Y",
        "colab_type": "code",
        "outputId": "1b93121e-5c36-4148-f8ef-31be8eb0efa0",
        "colab": {
          "base_uri": "https://localhost:8080/",
          "height": 433
        }
      },
      "cell_type": "code",
      "source": [
        "plt.plot(val_loss)\n",
        "plt.imsave(\"valloss.png\")"
      ],
      "execution_count": 0,
      "outputs": [
        {
          "output_type": "error",
          "ename": "TypeError",
          "evalue": "ignored",
          "traceback": [
            "\u001b[0;31m---------------------------------------------------------------------------\u001b[0m",
            "\u001b[0;31mTypeError\u001b[0m                                 Traceback (most recent call last)",
            "\u001b[0;32m<ipython-input-139-452cceeff586>\u001b[0m in \u001b[0;36m<module>\u001b[0;34m()\u001b[0m\n\u001b[1;32m      1\u001b[0m \u001b[0mplt\u001b[0m\u001b[0;34m.\u001b[0m\u001b[0mplot\u001b[0m\u001b[0;34m(\u001b[0m\u001b[0mval_loss\u001b[0m\u001b[0;34m)\u001b[0m\u001b[0;34m\u001b[0m\u001b[0;34m\u001b[0m\u001b[0m\n\u001b[0;32m----> 2\u001b[0;31m \u001b[0mplt\u001b[0m\u001b[0;34m.\u001b[0m\u001b[0mimsave\u001b[0m\u001b[0;34m(\u001b[0m\u001b[0;34m\"valloss.png\"\u001b[0m\u001b[0;34m)\u001b[0m\u001b[0;34m\u001b[0m\u001b[0;34m\u001b[0m\u001b[0m\n\u001b[0m",
            "\u001b[0;31mTypeError\u001b[0m: imsave() missing 1 required positional argument: 'arr'"
          ]
        },
        {
          "output_type": "display_data",
          "data": {
            "image/png": "[encoded data removed]",
            "text/plain": [
              "<Figure size 432x288 with 1 Axes>"
            ]
          },
          "metadata": {
            "tags": []
          }
        }
      ]
    },
    {
      "metadata": {
        "id": "FHtr2567MTJN",
        "colab_type": "code",
        "outputId": "6136301f-f029-417e-ceda-fe844ab793e1",
        "colab": {
          "base_uri": "https://localhost:8080/",
          "height": 408
        }
      },
      "cell_type": "code",
      "source": [
        "model.summary()"
      ],
      "execution_count": 0,
      "outputs": [
        {
          "output_type": "stream",
          "text": [
            "_________________________________________________________________\n",
            "Layer (type)                 Output Shape              Param #   \n",
            "=================================================================\n",
            "dense_146 (Dense)            (None, 16)                272       \n",
            "_________________________________________________________________\n",
            "activation_16 (Activation)   (None, 16)                0         \n",
            "_________________________________________________________________\n",
            "dense_147 (Dense)            (None, 8)                 136       \n",
            "_________________________________________________________________\n",
            "activation_17 (Activation)   (None, 8)                 0         \n",
            "_________________________________________________________________\n",
            "dense_148 (Dense)            (None, 4)                 36        \n",
            "_________________________________________________________________\n",
            "activation_18 (Activation)   (None, 4)                 0         \n",
            "_________________________________________________________________\n",
            "dense_149 (Dense)            (None, 2)                 10        \n",
            "_________________________________________________________________\n",
            "dense_150 (Dense)            (None, 1)                 3         \n",
            "=================================================================\n",
            "Total params: 457\n",
            "Trainable params: 457\n",
            "Non-trainable params: 0\n",
            "_________________________________________________________________\n"
          ],
          "name": "stdout"
        }
      ]
    },
    {
      "metadata": {
        "id": "jJTjlyLlX3kx",
        "colab_type": "code",
        "colab": {}
      },
      "cell_type": "code",
      "source": [
        "from sklearn import svm"
      ],
      "execution_count": 0,
      "outputs": []
    },
    {
      "metadata": {
        "id": "-GJvapJbYCXI",
        "colab_type": "code",
        "colab": {}
      },
      "cell_type": "code",
      "source": [
        "clf=svm.SVR()"
      ],
      "execution_count": 0,
      "outputs": []
    },
    {
      "metadata": {
        "id": "6rN0LlS7YPdk",
        "colab_type": "code",
        "colab": {}
      },
      "cell_type": "code",
      "source": [
        "print(\"asda \")"
      ],
      "execution_count": 0,
      "outputs": []
    },
    {
      "metadata": {
        "id": "Zp4RY294ZxRo",
        "colab_type": "code",
        "colab": {}
      },
      "cell_type": "code",
      "source": [
        ""
      ],
      "execution_count": 0,
      "outputs": []
    }
  ]
}